{
 "cells": [
  {
   "cell_type": "markdown",
   "metadata": {},
   "source": [
    "## Funções "
   ]
  },
  {
   "cell_type": "code",
   "execution_count": 1,
   "metadata": {},
   "outputs": [],
   "source": [
    "def destructuringFrequencyTable(tabela, nomeIntervalo, nomeFrequencia):\n",
    "    \"\"\"\n",
    "        Define o ponto médio, os intervalos e a frequência da tabela \n",
    "        de distribuição de frequência.\n",
    "    \"\"\"\n",
    "    pontoMedio = []\n",
    "    intervalos = []\n",
    "    frequencia = []\n",
    "    for i in range(0, len(tabela)):\n",
    "      intervalo = tabela[nomeIntervalo][i].split('|---')\n",
    "      for lado in range(0, len(intervalo)):\n",
    "        intervalo[lado] = intervalo[lado].strip()\n",
    "      try:\n",
    "        esquerda = float(intervalo[0])\n",
    "        direita = float(intervalo[1])\n",
    "        numeroMulheres = int(tabela[nomeFrequencia][i])\n",
    "\n",
    "        soma = esquerda + direita\n",
    "        pontoMedio.append(soma/2)\n",
    "        intervalos.append([esquerda, direita])\n",
    "        frequencia.append(numeroMulheres)\n",
    "      except ValueError:\n",
    "        print(\"Somente números são aceitos.\")\n",
    "        return\n",
    "    \n",
    "    xm_fi = []\n",
    "    xm2 = []\n",
    "    xm2_fi = []\n",
    "    fAc = 0\n",
    "    frequencia_Acumulada = []\n",
    "    for i in range(0, len(pontoMedio)):\n",
    "        xm_fi.append(frequencia[i] * pontoMedio[i])\n",
    "        xm2.append(pontoMedio[i] * pontoMedio[i])\n",
    "        xm2_fi.append(xm2[i] * frequencia[i])\n",
    "        \n",
    "        frequencia_Acumulada.append(fAc + frequencia[i])\n",
    "        fAc = fAc + frequencia[i]\n",
    "    \n",
    "    pontosTabela = dict({\n",
    "    'intervalos': intervalos, \n",
    "    'frequencia': frequencia, \n",
    "    'pontoMedio': pontoMedio, \n",
    "    'xm_fi': xm_fi,\n",
    "    'xm2': xm2,\n",
    "    'xm2_fi': xm2_fi,\n",
    "    'frequencia_Acumulada': frequencia_Acumulada,\n",
    "    })\n",
    "\n",
    "    ultimoElementoFac = len(frequencia_Acumulada) - 1\n",
    "    somaFrequencia = frequencia_Acumulada[ultimoElementoFac]\n",
    "    somaXm_Fi = sum(xm_fi)\n",
    "    somaXm2_Fi = sum(xm2_fi)\n",
    "\n",
    "    somaTabela = dict({\n",
    "        'somaFrequencia': somaFrequencia, \n",
    "        'somaXm_Fi': somaXm_Fi, \n",
    "        'somaXm2_Fi': somaXm2_Fi, \n",
    "    })\n",
    "    \n",
    "    return [pontosTabela, somaTabela]"
   ]
  },
  {
   "cell_type": "markdown",
   "metadata": {},
   "source": [
    "### Medidas de Tendência Central\n",
    "\n",
    "### Fórmulas utilizadas:\n",
    "\n",
    "##### Moda\n",
    "![moda](images/tendencia-central/modaDist.png)\n",
    "![moda](images/tendencia-central/modaDist2.png)\n",
    "\n",
    "##### Mediana\n",
    "![mediana](images/tendencia-central/medianaDist.png)\n",
    "![mediana](images/tendencia-central/medianaDist2.png)\n",
    "\n",
    "##### Média\n",
    "![media](images/tendencia-central/mediaDist.png)"
   ]
  },
  {
   "cell_type": "code",
   "execution_count": 2,
   "metadata": {},
   "outputs": [],
   "source": [
    "def getTendenciaCentral(pontosTabela, somaTabela):\n",
    "    \n",
    "    frequencia = pontosTabela['frequencia']\n",
    "    intervalos = pontosTabela['intervalos']\n",
    "    frequencia_Acumulada = pontosTabela['frequencia_Acumulada']\n",
    "    somaXm_Fi = somaTabela['somaXm_Fi']\n",
    "    somaFrequencia = somaTabela['somaFrequencia']\n",
    "    \n",
    "    # Calculando a mediana da Classe\n",
    "    medianaDaClasse = somaFrequencia/2\n",
    "\n",
    "    # Encontrando a Classe da Mediana\n",
    "    index = 0\n",
    "    for i in range(0, len(frequencia_Acumulada)):\n",
    "        if frequencia_Acumulada[i] > medianaDaClasse:\n",
    "            index = i \n",
    "            break\n",
    "\n",
    "    # Definindo o limite inferior da Classe\n",
    "    limiteInferior = intervalos[index][0]\n",
    "\n",
    "    # fac do anterior\n",
    "    frequenciaAcumuladaAnterior = frequencia_Acumulada[index-1]\n",
    "\n",
    "    # Frequência Absoluta do Intervalo\n",
    "    frequenciaAbsoluta = frequencia[index]\n",
    "\n",
    "    # Amplitude\n",
    "    h = intervalos[index][1] - intervalos[index][0]\n",
    "\n",
    "    mediana = limiteInferior + (\n",
    "        (\n",
    "            ((somaFrequencia/2) - frequenciaAcumuladaAnterior)/ frequenciaAbsoluta) * h\n",
    "        )\n",
    "\n",
    "    # D1 = frequência da classe modal - frequência da classe anteriot\n",
    "    D1 = frequencia[index] - frequencia[index-1]\n",
    "\n",
    "    # D2 = frequência da classe modal - frequência posterior\n",
    "    D2 = frequencia[index] - frequencia[index+1]\n",
    "\n",
    "    moda = limiteInferior + ((D1/(D1+D2))*h)\n",
    "    \n",
    "    # Média\n",
    "    media = somaXm_Fi/somaFrequencia\n",
    "    \n",
    "    return [moda, mediana, media]"
   ]
  },
  {
   "cell_type": "markdown",
   "metadata": {},
   "source": [
    "### Medidas de Dispersão\n",
    "\n",
    "### Fórmulas utilizadas:\n",
    "\n",
    "#### Variância\n",
    "\n",
    "###### Populacional\n",
    "![variancia](images/dispersao/desvioPopulacional2.png)\n",
    "\n",
    "![variancia](images/dispersao/desvioPopulacional.png)\n",
    "\n",
    "###### Amostral\n",
    "![variancia](images/dispersao/desvioAmostral.png)\n",
    "\n",
    "#### Desvio Padrão\n",
    "raiz(variância)\n",
    "\n",
    "#### Coeficiente de Variação\n",
    "![cv](images/dispersao/coeficienteVariacao.png)"
   ]
  },
  {
   "cell_type": "code",
   "execution_count": 3,
   "metadata": {},
   "outputs": [],
   "source": [
    "import math\n",
    "\n",
    "def getMedidasDispersão(pontosTabela, somaTabela):\n",
    "    \n",
    "    somaXm_Fi = somaTabela['somaXm_Fi']\n",
    "    somaXm2_Fi = somaTabela['somaXm2_Fi']\n",
    "    somaFrequencia = somaTabela['somaFrequencia']\n",
    "    media = somaXm_Fi/somaFrequencia\n",
    "    pontoMedio = pontosTabela['pontoMedio']\n",
    "    \n",
    "    # Variância\n",
    "    varianciaPopulacional = 1*(somaXm2_Fi - (math.pow(somaXm_Fi, 2)/somaFrequencia))/somaFrequencia\n",
    "    \n",
    "    varianciaAmostral = 1*(somaXm2_Fi - (math.pow(somaXm_Fi, 2)/somaFrequencia))/(somaFrequencia - 1)\n",
    "    \n",
    "    # Desvio Padrão\n",
    "    desvioPopulacional = math.sqrt(varianciaPopulacional)\n",
    "    \n",
    "    desvioAmostral = math.sqrt(varianciaAmostral)\n",
    "    \n",
    "    # Coeficiente de Variação\n",
    "    cvPopulacional = ((desvioPopulacional/media)*100)\n",
    "    cvAmostral = ((desvioAmostral/media)*100)\n",
    "    \n",
    "    return [varianciaPopulacional, varianciaAmostral, desvioPopulacional, desvioAmostral, cvPopulacional, cvAmostral]"
   ]
  },
  {
   "cell_type": "markdown",
   "metadata": {},
   "source": [
    "## **Questão 1** \n",
    "### Analisando a distribuição de frequência de mulheres, na faixa etária de 25 a 34 anos, segundo a pressão sistólica em milímetros de mercúrio."
   ]
  },
  {
   "cell_type": "code",
   "execution_count": 4,
   "metadata": {
    "colab": {
     "base_uri": "https://localhost:8080/",
     "height": 235
    },
    "colab_type": "code",
    "id": "30dyHbKQqMEJ",
    "outputId": "a67b6bdd-8547-4de4-f651-36b0321ecd79"
   },
   "outputs": [
    {
     "data": {
      "text/html": [
       "<div>\n",
       "<style scoped>\n",
       "    .dataframe tbody tr th:only-of-type {\n",
       "        vertical-align: middle;\n",
       "    }\n",
       "\n",
       "    .dataframe tbody tr th {\n",
       "        vertical-align: top;\n",
       "    }\n",
       "\n",
       "    .dataframe thead th {\n",
       "        text-align: right;\n",
       "    }\n",
       "</style>\n",
       "<table border=\"1\" class=\"dataframe\">\n",
       "  <thead>\n",
       "    <tr style=\"text-align: right;\">\n",
       "      <th></th>\n",
       "      <th>Pressao_Siatolica</th>\n",
       "      <th>No._de_Mulheres(fi)</th>\n",
       "    </tr>\n",
       "  </thead>\n",
       "  <tbody>\n",
       "    <tr>\n",
       "      <th>0</th>\n",
       "      <td>80 |--- 100</td>\n",
       "      <td>30</td>\n",
       "    </tr>\n",
       "    <tr>\n",
       "      <th>1</th>\n",
       "      <td>100 |--- 120</td>\n",
       "      <td>80</td>\n",
       "    </tr>\n",
       "    <tr>\n",
       "      <th>2</th>\n",
       "      <td>120 |--- 140</td>\n",
       "      <td>40</td>\n",
       "    </tr>\n",
       "    <tr>\n",
       "      <th>3</th>\n",
       "      <td>140 |--- 160</td>\n",
       "      <td>10</td>\n",
       "    </tr>\n",
       "    <tr>\n",
       "      <th>4</th>\n",
       "      <td>160 |--- 180</td>\n",
       "      <td>4</td>\n",
       "    </tr>\n",
       "    <tr>\n",
       "      <th>5</th>\n",
       "      <td>180 |--- 200</td>\n",
       "      <td>6</td>\n",
       "    </tr>\n",
       "  </tbody>\n",
       "</table>\n",
       "</div>"
      ],
      "text/plain": [
       "  Pressao_Siatolica No._de_Mulheres(fi)\n",
       "0       80 |--- 100                  30\n",
       "1      100 |--- 120                  80\n",
       "2      120 |--- 140                  40\n",
       "3      140 |--- 160                  10\n",
       "4      160 |--- 180                   4\n",
       "5      180 |--- 200                   6"
      ]
     },
     "execution_count": 4,
     "metadata": {},
     "output_type": "execute_result"
    }
   ],
   "source": [
    "# Tabela de distribuição de frequência inicial\n",
    "\n",
    "import numpy as np\n",
    "import pandas as pd\n",
    "\n",
    "tabelaPressao = pd.DataFrame(np.array([['80 |--- 100', 30], \n",
    "                             ['100 |--- 120', 80],\n",
    "                             ['120 |--- 140', 40],\n",
    "                             ['140 |--- 160', 10],\n",
    "                             ['160 |--- 180', 4],\n",
    "                             ['180 |--- 200', 6],\n",
    "                             ]), \n",
    "                columns=['Pressao_Siatolica', 'No._de_Mulheres(fi)'])\n",
    "tabelaPressao"
   ]
  },
  {
   "cell_type": "code",
   "execution_count": 5,
   "metadata": {},
   "outputs": [],
   "source": [
    "[pontosTabela, somaTabela] = destructuringFrequencyTable(tabelaPressao, 'Pressao_Siatolica', 'No._de_Mulheres(fi)')"
   ]
  },
  {
   "cell_type": "code",
   "execution_count": 6,
   "metadata": {
    "colab": {},
    "colab_type": "code",
    "id": "87EmtT8IBAcn"
   },
   "outputs": [
    {
     "data": {
      "text/html": [
       "<div>\n",
       "<style scoped>\n",
       "    .dataframe tbody tr th:only-of-type {\n",
       "        vertical-align: middle;\n",
       "    }\n",
       "\n",
       "    .dataframe tbody tr th {\n",
       "        vertical-align: top;\n",
       "    }\n",
       "\n",
       "    .dataframe thead th {\n",
       "        text-align: right;\n",
       "    }\n",
       "</style>\n",
       "<table border=\"1\" class=\"dataframe\">\n",
       "  <thead>\n",
       "    <tr style=\"text-align: right;\">\n",
       "      <th></th>\n",
       "      <th>Pressao_Siatolica</th>\n",
       "      <th>No._de_Mulheres(fi)</th>\n",
       "      <th>Ponto_Medio(xm)</th>\n",
       "      <th>xm_fi</th>\n",
       "      <th>xm2</th>\n",
       "      <th>xm2_fi</th>\n",
       "      <th>fac</th>\n",
       "    </tr>\n",
       "  </thead>\n",
       "  <tbody>\n",
       "    <tr>\n",
       "      <th>0</th>\n",
       "      <td>80 |--- 100</td>\n",
       "      <td>30</td>\n",
       "      <td>90.0</td>\n",
       "      <td>2700.0</td>\n",
       "      <td>8100.0</td>\n",
       "      <td>243000.0</td>\n",
       "      <td>30</td>\n",
       "    </tr>\n",
       "    <tr>\n",
       "      <th>1</th>\n",
       "      <td>100 |--- 120</td>\n",
       "      <td>80</td>\n",
       "      <td>110.0</td>\n",
       "      <td>8800.0</td>\n",
       "      <td>12100.0</td>\n",
       "      <td>968000.0</td>\n",
       "      <td>110</td>\n",
       "    </tr>\n",
       "    <tr>\n",
       "      <th>2</th>\n",
       "      <td>120 |--- 140</td>\n",
       "      <td>40</td>\n",
       "      <td>130.0</td>\n",
       "      <td>5200.0</td>\n",
       "      <td>16900.0</td>\n",
       "      <td>676000.0</td>\n",
       "      <td>150</td>\n",
       "    </tr>\n",
       "    <tr>\n",
       "      <th>3</th>\n",
       "      <td>140 |--- 160</td>\n",
       "      <td>10</td>\n",
       "      <td>150.0</td>\n",
       "      <td>1500.0</td>\n",
       "      <td>22500.0</td>\n",
       "      <td>225000.0</td>\n",
       "      <td>160</td>\n",
       "    </tr>\n",
       "    <tr>\n",
       "      <th>4</th>\n",
       "      <td>160 |--- 180</td>\n",
       "      <td>4</td>\n",
       "      <td>170.0</td>\n",
       "      <td>680.0</td>\n",
       "      <td>28900.0</td>\n",
       "      <td>115600.0</td>\n",
       "      <td>164</td>\n",
       "    </tr>\n",
       "    <tr>\n",
       "      <th>5</th>\n",
       "      <td>180 |--- 200</td>\n",
       "      <td>6</td>\n",
       "      <td>190.0</td>\n",
       "      <td>1140.0</td>\n",
       "      <td>36100.0</td>\n",
       "      <td>216600.0</td>\n",
       "      <td>170</td>\n",
       "    </tr>\n",
       "  </tbody>\n",
       "</table>\n",
       "</div>"
      ],
      "text/plain": [
       "  Pressao_Siatolica No._de_Mulheres(fi)  Ponto_Medio(xm)   xm_fi      xm2  \\\n",
       "0       80 |--- 100                  30             90.0  2700.0   8100.0   \n",
       "1      100 |--- 120                  80            110.0  8800.0  12100.0   \n",
       "2      120 |--- 140                  40            130.0  5200.0  16900.0   \n",
       "3      140 |--- 160                  10            150.0  1500.0  22500.0   \n",
       "4      160 |--- 180                   4            170.0   680.0  28900.0   \n",
       "5      180 |--- 200                   6            190.0  1140.0  36100.0   \n",
       "\n",
       "     xm2_fi  fac  \n",
       "0  243000.0   30  \n",
       "1  968000.0  110  \n",
       "2  676000.0  150  \n",
       "3  225000.0  160  \n",
       "4  115600.0  164  \n",
       "5  216600.0  170  "
      ]
     },
     "execution_count": 6,
     "metadata": {},
     "output_type": "execute_result"
    }
   ],
   "source": [
    "tabelaPressao['Ponto_Medio(xm)'] = pontosTabela['pontoMedio']\n",
    "tabelaPressao['xm_fi'] = pontosTabela['xm_fi']\n",
    "tabelaPressao['xm2'] = pontosTabela['xm2']\n",
    "tabelaPressao['xm2_fi'] = pontosTabela['xm2_fi']\n",
    "tabelaPressao['fac'] = pontosTabela['frequencia_Acumulada']\n",
    "tabelaPressao"
   ]
  },
  {
   "cell_type": "code",
   "execution_count": 7,
   "metadata": {},
   "outputs": [
    {
     "name": "stdout",
     "output_type": "stream",
     "text": [
      "Questão 1: letra A) 35.29%\n"
     ]
    }
   ],
   "source": [
    "questaoA = 0\n",
    "intervalos = pontosTabela['intervalos']\n",
    "frequencia = pontosTabela['frequencia']\n",
    "somaFrequencia = somaTabela['somaFrequencia']\n",
    "\n",
    "\n",
    "# a) A percentagem de mulheres que têm pressão igual ou maior que 120mm de Hg\n",
    "for i in range(0, len(intervalos)):\n",
    "  if intervalos[i][0] >= 120:\n",
    "    questaoA += frequencia[i]\n",
    "questaoA = questaoA / somaFrequencia\n",
    "questaoA = questaoA * 100\n",
    "print(f'Questão 1: letra A) {round(questaoA, 2)}%')"
   ]
  },
  {
   "cell_type": "markdown",
   "metadata": {},
   "source": [
    "### Questão 1: letra A) 35.29%"
   ]
  },
  {
   "cell_type": "code",
   "execution_count": 8,
   "metadata": {},
   "outputs": [
    {
     "name": "stdout",
     "output_type": "stream",
     "text": [
      "Questão 1: letra B) 160 Mulheres\n"
     ]
    }
   ],
   "source": [
    "questaoB = 0\n",
    "# b) O número de mulheres que têm pressão menor que 160 mm de Hg.\n",
    "for i in range(0, len(intervalos)):\n",
    "  if (intervalos[i][1]-1) < 160:\n",
    "    questaoB += frequencia[i]\n",
    "print(f'Questão 1: letra B) {questaoB} Mulheres')"
   ]
  },
  {
   "cell_type": "markdown",
   "metadata": {},
   "source": [
    "### Questão 1: letra B) 160 Mulheres"
   ]
  },
  {
   "cell_type": "code",
   "execution_count": 9,
   "metadata": {},
   "outputs": [
    {
     "name": "stdout",
     "output_type": "stream",
     "text": [
      "Questão 1: letra C parte 1) 140 Mulheres\n",
      "Questão 1: letra C parte 2) 82.35%\n"
     ]
    }
   ],
   "source": [
    "questaoC = 0\n",
    "# c) O número de mulheres (e a percentagem) que têm pressão igual ou maior que 100mm de Hg\n",
    "for i in range(0, len(intervalos)):\n",
    "  if intervalos[i][0] >= 100:\n",
    "    questaoC += frequencia[i]\n",
    "print(f'Questão 1: letra C parte 1) {questaoC} Mulheres')\n",
    "questaoC = questaoC/somaFrequencia\n",
    "questaoC = questaoC*100\n",
    "print(f'Questão 1: letra C parte 2) {round(questaoC, 2)}%')"
   ]
  },
  {
   "cell_type": "markdown",
   "metadata": {},
   "source": [
    "### Questão 1: letra C parte 1) 140 Mulheres\n",
    "### Questão 1: letra C parte 2) 82.35%"
   ]
  },
  {
   "cell_type": "code",
   "execution_count": 10,
   "metadata": {},
   "outputs": [],
   "source": [
    "result = getTendenciaCentral(pontosTabela, somaTabela)\n",
    "moda = result[0]\n",
    "mediana = result[1]\n",
    "media = result[2]"
   ]
  },
  {
   "cell_type": "code",
   "execution_count": 11,
   "metadata": {
    "colab": {
     "base_uri": "https://localhost:8080/",
     "height": 34
    },
    "colab_type": "code",
    "id": "7rKCO6toD_5d",
    "outputId": "22d09c1b-fc98-4954-ab83-1e63b3d32648"
   },
   "outputs": [
    {
     "name": "stdout",
     "output_type": "stream",
     "text": [
      "Questão 1: letra D) 111.11\n"
     ]
    }
   ],
   "source": [
    "print(f'Questão 1: letra D) {round(moda, 2)}')"
   ]
  },
  {
   "cell_type": "markdown",
   "metadata": {},
   "source": [
    "### Questão 1: letra D) 111.11"
   ]
  },
  {
   "cell_type": "code",
   "execution_count": 12,
   "metadata": {
    "colab": {
     "base_uri": "https://localhost:8080/",
     "height": 34
    },
    "colab_type": "code",
    "id": "0fAsxGmrGElH",
    "outputId": "97aff466-d681-4efb-882d-0595b1c057df"
   },
   "outputs": [],
   "source": [
    "result = getMedidasDispersão(pontosTabela, somaTabela)\n",
    "varianciaPopulacional = result[0]\n",
    "varianciaAmostral = result[1]\n",
    "desvioPopulacional = result[2]\n",
    "desvioAmostral = result[3]\n",
    "cvPopulacional = result[4]\n",
    "cvAmostral = result[5]"
   ]
  },
  {
   "cell_type": "code",
   "execution_count": 13,
   "metadata": {
    "colab": {
     "base_uri": "https://localhost:8080/",
     "height": 34
    },
    "colab_type": "code",
    "id": "TlcqkfUJG0sr",
    "outputId": "4422c1c9-5c43-48f2-af30-51e05ac7d248"
   },
   "outputs": [
    {
     "name": "stdout",
     "output_type": "stream",
     "text": [
      "Questão 1: letra E parte 1) Desvio Padrão Amostral = 22.6304\n",
      "Questão 1: letra E parte 1) Desvio Padrão Populacional = 22.5637\n"
     ]
    }
   ],
   "source": [
    "# e) O desvio padrão e o coeficiente de variação para a pressão sistólica\n",
    "print(f'Questão 1: letra E parte 1) Desvio Padrão Amostral = {round(desvioAmostral, 4)}')\n",
    "print(f'Questão 1: letra E parte 1) Desvio Padrão Populacional = {round(desvioPopulacional, 4)}')"
   ]
  },
  {
   "cell_type": "code",
   "execution_count": 14,
   "metadata": {
    "colab": {
     "base_uri": "https://localhost:8080/",
     "height": 34
    },
    "colab_type": "code",
    "id": "9hJ3pG8kKwtT",
    "outputId": "cadaeede-cd4e-421b-fc19-c92aa27786f9"
   },
   "outputs": [
    {
     "name": "stdout",
     "output_type": "stream",
     "text": [
      "Questão 1: letra E parte 2) Coeficiente de Variação Populacional = 19.16\n",
      "Questão 1: letra E parte 2) Coeficiente de Variação Amostral = 19.2166\n"
     ]
    }
   ],
   "source": [
    "print(f'Questão 1: letra E parte 2) Coeficiente de Variação Populacional = {round(cvPopulacional, 4)}')\n",
    "print(f'Questão 1: letra E parte 2) Coeficiente de Variação Amostral = {round(cvAmostral, 4)}')"
   ]
  },
  {
   "cell_type": "markdown",
   "metadata": {},
   "source": [
    "### Considerando que os dados são referentes a uma amostra da População temos:\n",
    "### Questão 1: letra E) Desvio Padrão Amostral = 22.6304\n",
    "### Questão 1: letra E) Coeficiente de Variação = 19.2166\n",
    "\n",
    "<br>\n",
    "\n",
    "##### Se considerássemos sendo a população total teríamos: \n",
    "###### Questão 1: letra E) Desvio Padrão Populacional = 22.5637\n",
    "###### Questão 1: letra E) Coeficiente de Variação = 19.16"
   ]
  },
  {
   "cell_type": "code",
   "execution_count": 15,
   "metadata": {},
   "outputs": [],
   "source": [
    "import numpy\n",
    "pontoMedioComFrequencia = []\n",
    "pontoMedio = pontosTabela['pontoMedio']\n",
    "frequencia = pontosTabela['frequencia']\n",
    "\n",
    "for i in range(0, len(pontoMedio)):\n",
    "  pontoMedioComFrequencia += ([pontoMedio[i]]*frequencia[i])\n",
    "\n",
    "arr = numpy.array([pontoMedioComFrequencia])"
   ]
  },
  {
   "cell_type": "markdown",
   "metadata": {},
   "source": [
    "<br>\n",
    "<br>\n",
    "<br>\n",
    "\n",
    "### Questão 1: letra F)"
   ]
  },
  {
   "cell_type": "code",
   "execution_count": 16,
   "metadata": {
    "colab": {
     "base_uri": "https://localhost:8080/",
     "height": 282
    },
    "colab_type": "code",
    "id": "hWoKXMBSg4L7",
    "outputId": "bbe138c1-73a8-4aa1-e85c-6d988f5bd722"
   },
   "outputs": [
    {
     "data": {
      "image/png": "[encoded data removed]",
      "text/plain": [
       "<Figure size 432x288 with 1 Axes>"
      ]
     },
     "metadata": {},
     "output_type": "display_data"
    }
   ],
   "source": [
    "# f) Construa o respectivo histograma.\n",
    "import matplotlib.pyplot as plt\n",
    "\n",
    "x = pontoMedioComFrequencia\n",
    "plt.style.use('ggplot')\n",
    "plt.hist(x)\n",
    "plt.ylabel('No. De Mulheres(frequência)') \n",
    "plt.xlabel('Pressão Siatólica(mm de Hg)')\n",
    "plt.show()"
   ]
  },
  {
   "cell_type": "markdown",
   "metadata": {
    "colab_type": "text",
    "id": "XF3ovUx_w2rV"
   },
   "source": [
    "## **Questão 2**\n",
    "#### Analisando os coeficientes de mortalidade geral (por 1000 habitantes) em 50 municípios de um determinado estado, no ano de 2015."
   ]
  },
  {
   "cell_type": "code",
   "execution_count": 17,
   "metadata": {
    "colab": {},
    "colab_type": "code",
    "id": "BwZOrAENw7uS"
   },
   "outputs": [],
   "source": [
    "dados = '9 12 10 8 11 13 10 15 9 7 14 12 9 7 15 6 4 16 18 9 19 10 20 13 8 7 17 15 14 20 21 19 22 6 5 12 15 23 19 24 15 10 12 9 15 24 6 24 13 12'\n",
    "dados = list(map(float, dados.split(\" \")))"
   ]
  },
  {
   "cell_type": "code",
   "execution_count": 18,
   "metadata": {
    "colab": {
     "base_uri": "https://localhost:8080/",
     "height": 34
    },
    "colab_type": "code",
    "id": "7BR9np6R17bG",
    "outputId": "5355c87f-e63a-4121-df8d-144dda91b68c"
   },
   "outputs": [
    {
     "data": {
      "text/plain": [
       "4.0"
      ]
     },
     "execution_count": 18,
     "metadata": {},
     "output_type": "execute_result"
    }
   ],
   "source": [
    "# Para determinar os intervalos das classes temos:\n",
    "# Range = Highest Weight - Lowest Weight\n",
    "numberOfClass = 5\n",
    "HighestWeight = max(dados)\n",
    "LowestWeight = min(dados)\n",
    "rangeClass = HighestWeight - LowestWeight\n",
    "# Number of class intervals\n",
    "classInterval = rangeClass/numberOfClass\n",
    "classInterval"
   ]
  },
  {
   "cell_type": "code",
   "execution_count": 19,
   "metadata": {
    "colab": {
     "base_uri": "https://localhost:8080/",
     "height": 102
    },
    "colab_type": "code",
    "id": "BHzYsiv8E9ip",
    "outputId": "9ddfbf3c-49e2-410a-e41b-079ad7a15286"
   },
   "outputs": [
    {
     "data": {
      "text/plain": [
       "[[4.0, 8.0, 8],\n",
       " [8.0, 12.0, 12],\n",
       " [12.0, 16.0, 16],\n",
       " [16.0, 20.0, 6],\n",
       " [20.0, 24.0, 8]]"
      ]
     },
     "execution_count": 19,
     "metadata": {},
     "output_type": "execute_result"
    }
   ],
   "source": [
    "# Gera os dados, considerando o intervalo de classe.\n",
    "intervalosCoeficientes = []\n",
    "value = LowestWeight\n",
    "for i in range(0, numberOfClass):\n",
    "  frequenciaCoeficientes = 0\n",
    "  for element in dados:\n",
    "    if element >= value and element < (value + classInterval):\n",
    "      frequenciaCoeficientes += 1\n",
    "    elif i == (numberOfClass - 1) and element == (value + classInterval):\n",
    "      frequenciaCoeficientes += 1\n",
    "  intervalosCoeficientes.append([value, value + classInterval, frequenciaCoeficientes])\n",
    "  value = value + classInterval\n",
    "intervalosCoeficientes"
   ]
  },
  {
   "cell_type": "code",
   "execution_count": 20,
   "metadata": {
    "colab": {},
    "colab_type": "code",
    "id": "wZpOZZrxcw4I"
   },
   "outputs": [],
   "source": [
    "intervalosParaDataframe = []\n",
    "for i in range(0, len(intervalosCoeficientes)):\n",
    "  intervalosParaDataframe.append([f'{intervalosCoeficientes[i][0]} |--- {intervalosCoeficientes[i][1]}', intervalosCoeficientes[i][2]])"
   ]
  },
  {
   "cell_type": "code",
   "execution_count": 21,
   "metadata": {
    "colab": {
     "base_uri": "https://localhost:8080/",
     "height": 102
    },
    "colab_type": "code",
    "id": "gRUup-GDex7s",
    "outputId": "7416fe09-2438-4590-f143-ba5988bf4331"
   },
   "outputs": [
    {
     "data": {
      "text/plain": [
       "[['4.0 |--- 8.0', 8],\n",
       " ['8.0 |--- 12.0', 12],\n",
       " ['12.0 |--- 16.0', 16],\n",
       " ['16.0 |--- 20.0', 6],\n",
       " ['20.0 |--- 24.0', 8]]"
      ]
     },
     "execution_count": 21,
     "metadata": {},
     "output_type": "execute_result"
    }
   ],
   "source": [
    "intervalosParaDataframe"
   ]
  },
  {
   "cell_type": "markdown",
   "metadata": {},
   "source": [
    "### Questão 2: letra A"
   ]
  },
  {
   "cell_type": "code",
   "execution_count": 22,
   "metadata": {
    "colab": {
     "base_uri": "https://localhost:8080/",
     "height": 204
    },
    "colab_type": "code",
    "id": "7kxH0rRGG7eS",
    "outputId": "f7524027-1b99-4c80-ad32-994207bb68db"
   },
   "outputs": [
    {
     "data": {
      "text/html": [
       "<div>\n",
       "<style scoped>\n",
       "    .dataframe tbody tr th:only-of-type {\n",
       "        vertical-align: middle;\n",
       "    }\n",
       "\n",
       "    .dataframe tbody tr th {\n",
       "        vertical-align: top;\n",
       "    }\n",
       "\n",
       "    .dataframe thead th {\n",
       "        text-align: right;\n",
       "    }\n",
       "</style>\n",
       "<table border=\"1\" class=\"dataframe\">\n",
       "  <thead>\n",
       "    <tr style=\"text-align: right;\">\n",
       "      <th></th>\n",
       "      <th>Coeficientes_Mortalidade</th>\n",
       "      <th>Frequencia</th>\n",
       "    </tr>\n",
       "  </thead>\n",
       "  <tbody>\n",
       "    <tr>\n",
       "      <th>0</th>\n",
       "      <td>4.0 |--- 8.0</td>\n",
       "      <td>8</td>\n",
       "    </tr>\n",
       "    <tr>\n",
       "      <th>1</th>\n",
       "      <td>8.0 |--- 12.0</td>\n",
       "      <td>12</td>\n",
       "    </tr>\n",
       "    <tr>\n",
       "      <th>2</th>\n",
       "      <td>12.0 |--- 16.0</td>\n",
       "      <td>16</td>\n",
       "    </tr>\n",
       "    <tr>\n",
       "      <th>3</th>\n",
       "      <td>16.0 |--- 20.0</td>\n",
       "      <td>6</td>\n",
       "    </tr>\n",
       "    <tr>\n",
       "      <th>4</th>\n",
       "      <td>20.0 |--- 24.0</td>\n",
       "      <td>8</td>\n",
       "    </tr>\n",
       "  </tbody>\n",
       "</table>\n",
       "</div>"
      ],
      "text/plain": [
       "  Coeficientes_Mortalidade Frequencia\n",
       "0             4.0 |--- 8.0          8\n",
       "1            8.0 |--- 12.0         12\n",
       "2           12.0 |--- 16.0         16\n",
       "3           16.0 |--- 20.0          6\n",
       "4           20.0 |--- 24.0          8"
      ]
     },
     "execution_count": 22,
     "metadata": {},
     "output_type": "execute_result"
    }
   ],
   "source": [
    "# a) Construa uma distribuição de frequência com 5 classes\n",
    "# OBS: considerar 20.0 |---| 24.0\n",
    "\n",
    "tabelaMortalidade = pd.DataFrame(np.array(intervalosParaDataframe), \n",
    "                columns=['Coeficientes_Mortalidade', 'Frequencia'])\n",
    "tabelaMortalidade"
   ]
  },
  {
   "cell_type": "code",
   "execution_count": 23,
   "metadata": {
    "colab": {
     "base_uri": "https://localhost:8080/",
     "height": 34
    },
    "colab_type": "code",
    "id": "6GYcKCBIflFN",
    "outputId": "701a1b57-c656-4f22-e135-40731e05de8a"
   },
   "outputs": [],
   "source": [
    "[pontosTabela, somaTabela] = destructuringFrequencyTable(tabelaMortalidade, 'Coeficientes_Mortalidade', 'Frequencia')"
   ]
  },
  {
   "cell_type": "code",
   "execution_count": 24,
   "metadata": {
    "colab": {
     "base_uri": "https://localhost:8080/",
     "height": 204
    },
    "colab_type": "code",
    "id": "Rh-23KfDf3Bi",
    "outputId": "20280f28-3d54-44a8-d3f4-7bbc72ec60a1"
   },
   "outputs": [
    {
     "data": {
      "text/html": [
       "<div>\n",
       "<style scoped>\n",
       "    .dataframe tbody tr th:only-of-type {\n",
       "        vertical-align: middle;\n",
       "    }\n",
       "\n",
       "    .dataframe tbody tr th {\n",
       "        vertical-align: top;\n",
       "    }\n",
       "\n",
       "    .dataframe thead th {\n",
       "        text-align: right;\n",
       "    }\n",
       "</style>\n",
       "<table border=\"1\" class=\"dataframe\">\n",
       "  <thead>\n",
       "    <tr style=\"text-align: right;\">\n",
       "      <th></th>\n",
       "      <th>Coeficientes_Mortalidade</th>\n",
       "      <th>Frequencia</th>\n",
       "      <th>Ponto_Medio(xm)</th>\n",
       "      <th>xm_fi</th>\n",
       "      <th>xm2</th>\n",
       "      <th>xm2_fi</th>\n",
       "      <th>fac</th>\n",
       "    </tr>\n",
       "  </thead>\n",
       "  <tbody>\n",
       "    <tr>\n",
       "      <th>0</th>\n",
       "      <td>4.0 |--- 8.0</td>\n",
       "      <td>8</td>\n",
       "      <td>6.0</td>\n",
       "      <td>48.0</td>\n",
       "      <td>36.0</td>\n",
       "      <td>288.0</td>\n",
       "      <td>8</td>\n",
       "    </tr>\n",
       "    <tr>\n",
       "      <th>1</th>\n",
       "      <td>8.0 |--- 12.0</td>\n",
       "      <td>12</td>\n",
       "      <td>10.0</td>\n",
       "      <td>120.0</td>\n",
       "      <td>100.0</td>\n",
       "      <td>1200.0</td>\n",
       "      <td>20</td>\n",
       "    </tr>\n",
       "    <tr>\n",
       "      <th>2</th>\n",
       "      <td>12.0 |--- 16.0</td>\n",
       "      <td>16</td>\n",
       "      <td>14.0</td>\n",
       "      <td>224.0</td>\n",
       "      <td>196.0</td>\n",
       "      <td>3136.0</td>\n",
       "      <td>36</td>\n",
       "    </tr>\n",
       "    <tr>\n",
       "      <th>3</th>\n",
       "      <td>16.0 |--- 20.0</td>\n",
       "      <td>6</td>\n",
       "      <td>18.0</td>\n",
       "      <td>108.0</td>\n",
       "      <td>324.0</td>\n",
       "      <td>1944.0</td>\n",
       "      <td>42</td>\n",
       "    </tr>\n",
       "    <tr>\n",
       "      <th>4</th>\n",
       "      <td>20.0 |--- 24.0</td>\n",
       "      <td>8</td>\n",
       "      <td>22.0</td>\n",
       "      <td>176.0</td>\n",
       "      <td>484.0</td>\n",
       "      <td>3872.0</td>\n",
       "      <td>50</td>\n",
       "    </tr>\n",
       "  </tbody>\n",
       "</table>\n",
       "</div>"
      ],
      "text/plain": [
       "  Coeficientes_Mortalidade Frequencia  Ponto_Medio(xm)  xm_fi    xm2  xm2_fi  \\\n",
       "0             4.0 |--- 8.0          8              6.0   48.0   36.0   288.0   \n",
       "1            8.0 |--- 12.0         12             10.0  120.0  100.0  1200.0   \n",
       "2           12.0 |--- 16.0         16             14.0  224.0  196.0  3136.0   \n",
       "3           16.0 |--- 20.0          6             18.0  108.0  324.0  1944.0   \n",
       "4           20.0 |--- 24.0          8             22.0  176.0  484.0  3872.0   \n",
       "\n",
       "   fac  \n",
       "0    8  \n",
       "1   20  \n",
       "2   36  \n",
       "3   42  \n",
       "4   50  "
      ]
     },
     "execution_count": 24,
     "metadata": {},
     "output_type": "execute_result"
    }
   ],
   "source": [
    "# OBS: considerar 20.0 |---| 24.0\n",
    "tabelaMortalidade['Ponto_Medio(xm)'] = pontosTabela['pontoMedio']\n",
    "tabelaMortalidade['xm_fi'] = pontosTabela['xm_fi']\n",
    "tabelaMortalidade['xm2'] = pontosTabela['xm2']\n",
    "tabelaMortalidade['xm2_fi'] = pontosTabela['xm2_fi']\n",
    "tabelaMortalidade['fac'] = pontosTabela['frequencia_Acumulada']\n",
    "tabelaMortalidade"
   ]
  },
  {
   "cell_type": "code",
   "execution_count": 25,
   "metadata": {},
   "outputs": [],
   "source": [
    "pontoMedioComFrequencia = []\n",
    "pontoMedio = pontosTabela['pontoMedio']\n",
    "frequencia = pontosTabela['frequencia']\n",
    "\n",
    "for i in range(0, len(pontoMedio)):\n",
    "  pontoMedioComFrequencia += ([pontoMedio[i]]*frequencia[i])\n",
    "\n",
    "arr = numpy.array([pontoMedioComFrequencia])"
   ]
  },
  {
   "cell_type": "code",
   "execution_count": 26,
   "metadata": {
    "colab": {
     "base_uri": "https://localhost:8080/",
     "height": 282
    },
    "colab_type": "code",
    "id": "fTl2CT7gfMwg",
    "outputId": "12866712-aab1-43a8-a7e1-f32f74c5aab0"
   },
   "outputs": [
    {
     "data": {
      "image/png": "[encoded data removed]",
      "text/plain": [
       "<Figure size 432x288 with 1 Axes>"
      ]
     },
     "metadata": {},
     "output_type": "display_data"
    }
   ],
   "source": [
    "import matplotlib.pyplot as plt\n",
    "\n",
    "# Histograma\n",
    "x = pontoMedioComFrequencia\n",
    "plt.style.use('ggplot')\n",
    "plt.hist(x)\n",
    "plt.ylabel('Frequência') \n",
    "plt.xlabel('Coeficientes de Mortalidade Geral (por 1000 habitantes)')\n",
    "plt.show()"
   ]
  },
  {
   "cell_type": "code",
   "execution_count": 27,
   "metadata": {
    "colab": {
     "base_uri": "https://localhost:8080/",
     "height": 282
    },
    "colab_type": "code",
    "id": "_wDLwH05jZRZ",
    "outputId": "1fe00c6f-53aa-476e-cfd9-159e57108e94"
   },
   "outputs": [
    {
     "data": {
      "text/plain": [
       "[<matplotlib.lines.Line2D at 0x7fe562fdb450>]"
      ]
     },
     "execution_count": 27,
     "metadata": {},
     "output_type": "execute_result"
    },
    {
     "data": {
      "image/png": "[encoded data removed]",
      "text/plain": [
       "<Figure size 432x288 with 1 Axes>"
      ]
     },
     "metadata": {},
     "output_type": "display_data"
    }
   ],
   "source": [
    "#  Polígono de frequências\n",
    "counts, bins = np.histogram(pontoMedioComFrequencia)\n",
    "plt.ylabel('Frequência') \n",
    "plt.xlabel('Coeficientes de Mortalidade Geral (por 1000 habitantes)')\n",
    "plt.plot(bins[:-1]+1, counts)"
   ]
  },
  {
   "cell_type": "markdown",
   "metadata": {},
   "source": [
    "### Questão 2: letra B"
   ]
  },
  {
   "cell_type": "code",
   "execution_count": 28,
   "metadata": {},
   "outputs": [
    {
     "data": {
      "text/plain": [
       "[<matplotlib.lines.Line2D at 0x7fe562fa49d0>]"
      ]
     },
     "execution_count": 28,
     "metadata": {},
     "output_type": "execute_result"
    },
    {
     "data": {
      "image/png": "[encoded data removed]",
      "text/plain": [
       "<Figure size 432x288 with 1 Axes>"
      ]
     },
     "metadata": {},
     "output_type": "display_data"
    }
   ],
   "source": [
    "# b) Desenhe o histograma e o polígono de frequências\n",
    "#  Histograma + Polígono de Frequências\n",
    "\n",
    "graficos = plt.hist(pontoMedioComFrequencia)\n",
    "plt.ylabel('Frequência') \n",
    "plt.xlabel('Coeficientes de Mortalidade Geral (por 1000 habitantes)')\n",
    "plt.plot(bins[:-1]+1, counts)    "
   ]
  },
  {
   "cell_type": "code",
   "execution_count": 29,
   "metadata": {},
   "outputs": [],
   "source": [
    "somaXm_Fi = sum(pontosTabela['xm_fi'])\n",
    "\n",
    "result = getTendenciaCentral(pontosTabela, somaTabela)\n",
    "moda = result[0]\n",
    "mediana = result[1]\n",
    "media = result[2]"
   ]
  },
  {
   "cell_type": "code",
   "execution_count": 30,
   "metadata": {
    "colab": {
     "base_uri": "https://localhost:8080/",
     "height": 34
    },
    "colab_type": "code",
    "id": "PK3jr40dorR5",
    "outputId": "85f95fe4-ad00-4d4f-d1f2-712147e42033"
   },
   "outputs": [
    {
     "name": "stdout",
     "output_type": "stream",
     "text": [
      "--- Coeficiente de mortalidade médio ---\n",
      "Questão 2: letra C parte 1) 13.52\n"
     ]
    }
   ],
   "source": [
    "# c) Usando o item a), calcule os coeficientes de mortalidade médio, mediano e modal dos municípios.\n",
    "\n",
    "# Coeficiente de mortalidade médio\n",
    "print('--- Coeficiente de mortalidade médio ---')\n",
    "print(f'Questão 2: letra C parte 1) {media}')"
   ]
  },
  {
   "cell_type": "code",
   "execution_count": 31,
   "metadata": {
    "colab": {
     "base_uri": "https://localhost:8080/",
     "height": 34
    },
    "colab_type": "code",
    "id": "giAasnlWp3UH",
    "outputId": "a0e91fac-12d7-4bd6-b70e-151c3d13deab"
   },
   "outputs": [
    {
     "name": "stdout",
     "output_type": "stream",
     "text": [
      "--- Coeficiente de mortalidade mediano ---\n",
      "Questão 2: letra C parte 2) 13.25\n"
     ]
    }
   ],
   "source": [
    "# Coeficiente de mortalidade mediano\n",
    "print('--- Coeficiente de mortalidade mediano ---')\n",
    "print(f'Questão 2: letra C parte 2) {mediana}')"
   ]
  },
  {
   "cell_type": "code",
   "execution_count": 32,
   "metadata": {
    "colab": {
     "base_uri": "https://localhost:8080/",
     "height": 51
    },
    "colab_type": "code",
    "id": "-RmBbhL-qC-W",
    "outputId": "e0150a51-f47f-405e-82b8-dbebeadcf8e5",
    "scrolled": true
   },
   "outputs": [
    {
     "name": "stdout",
     "output_type": "stream",
     "text": [
      "--- Coeficiente de mortalidade modal ---\n",
      "Questão 2: letra C parte 2) 13.14\n"
     ]
    }
   ],
   "source": [
    "# Coeficiente de mortalidade modal\n",
    "print('--- Coeficiente de mortalidade modal ---')\n",
    "print(f'Questão 2: letra C parte 2) {round(moda, 2)}')"
   ]
  },
  {
   "cell_type": "markdown",
   "metadata": {},
   "source": [
    "### Questão 2: letra C) Coeficiente de mortalidade médio =  13.52\n",
    "\n",
    "### Questão 2: letra C) Coeficiente de mortalidade mediano = 13.25\n",
    "\n",
    "### Questão 2: letra C) Coeficiente de mortalidade modal = 13.14"
   ]
  }
 ],
 "metadata": {
  "colab": {
   "collapsed_sections": [
    "PV6mIvRnwdZF"
   ],
   "name": "teste.ipynb",
   "provenance": []
  },
  "kernelspec": {
   "display_name": "Python 3",
   "language": "python",
   "name": "python3"
  },
  "language_info": {
   "codemirror_mode": {
    "name": "ipython",
    "version": 3
   },
   "file_extension": ".py",
   "mimetype": "text/x-python",
   "name": "python",
   "nbconvert_exporter": "python",
   "pygments_lexer": "ipython3",
   "version": "3.7.6"
  }
 },
 "nbformat": 4,
 "nbformat_minor": 1
}
